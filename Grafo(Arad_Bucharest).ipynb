{
  "nbformat": 4,
  "nbformat_minor": 0,
  "metadata": {
    "colab": {
      "name": "Grafo(Arad-Bucharest).ipynb",
      "provenance": [],
      "collapsed_sections": [],
      "authorship_tag": "ABX9TyOJHsNXGIxN0pr/edUhfbCd",
      "include_colab_link": true
    },
    "kernelspec": {
      "name": "python3",
      "display_name": "Python 3"
    },
    "language_info": {
      "name": "python"
    }
  },
  "cells": [
    {
      "cell_type": "markdown",
      "metadata": {
        "id": "view-in-github",
        "colab_type": "text"
      },
      "source": [
        "<a href=\"https://colab.research.google.com/github/GabrielCdev/InteligenciaArtificial-e-MachineLearning-OGuiaCompleto/blob/main/Grafo(Arad_Bucharest).ipynb\" target=\"_parent\"><img src=\"https://colab.research.google.com/assets/colab-badge.svg\" alt=\"Open In Colab\"/></a>"
      ]
    },
    {
      "cell_type": "markdown",
      "source": [
        "# **GRAFO**"
      ],
      "metadata": {
        "id": "f3cQibJqK0Kr"
      }
    },
    {
      "cell_type": "code",
      "execution_count": 37,
      "metadata": {
        "id": "TuANKV02KYAR"
      },
      "outputs": [],
      "source": [
        "class Vertice:\n",
        "  # rotulo = nome das cidades\n",
        "  def __init__(self, rotulo):\n",
        "    self.rotulo = rotulo\n",
        "    self.visitado = False\n",
        "    self.adjacentes = []\n",
        "\n",
        "  def adiciona_adjacente(self, adjacente):\n",
        "    self.adjacentes.append(adjacente)\n",
        "\n",
        "  def mostra_adjacentes(self):\n",
        "    for i in self.adjacentes:\n",
        "      print(i.vertice.rotulo, i.custo)"
      ]
    },
    {
      "cell_type": "code",
      "source": [
        "class Adjacente:\n",
        "  # vertice = para ligar uma cidade a outra\n",
        "  def __init__(self, vertice, custo):\n",
        "    self.vertice = vertice\n",
        "    self.custo = custo"
      ],
      "metadata": {
        "id": "thWHAK8FMnaq"
      },
      "execution_count": 38,
      "outputs": []
    },
    {
      "cell_type": "code",
      "source": [
        "class Grafo:\n",
        "  arad = Vertice('Arad')\n",
        "  zerind = Vertice('Zerind')\n",
        "  oradea = Vertice('Oradea')\n",
        "  sibiu = Vertice('Sibiu')\n",
        "  fagaras = Vertice('Fagaras')\n",
        "  timisoara = Vertice('Timisoara')\n",
        "  lugoj = Vertice('Lugoj')\n",
        "  mehadia = Vertice('Mehadia')\n",
        "  dobreta = Vertice('Dobreta')\n",
        "  craiova = Vertice('Craiova')\n",
        "  rimnicu = Vertice('Rimnicu')\n",
        "  pitesti = Vertice('Pitesti')\n",
        "  bucharest = Vertice('Bucharest')\n",
        "  giurgiu = Vertice('Giurgiu')\n",
        "  urziceni = Vertice('Urziceni')\n",
        "  hirsova = Vertice('Hirsova')\n",
        "  eforie = Vertice('Eforie')\n",
        "  vaslui = Vertice('Vaslui')\n",
        "  iasi = Vertice('Iasi')\n",
        "  neamt = Vertice('Neamt')\n",
        "\n",
        "  arad.adiciona_adjacente(Adjacente(zerind, 75))\n",
        "  arad.adiciona_adjacente(Adjacente(sibiu, 140))\n",
        "  arad.adiciona_adjacente(Adjacente(timisoara, 118))\n",
        "  \n",
        "  zerind.adiciona_adjacente(Adjacente(arad, 75))\n",
        "  zerind.adiciona_adjacente(Adjacente(oradea, 71))\n",
        "\n",
        "  timisoara.adiciona_adjacente(Adjacente(arad, 118))\n",
        "  timisoara.adiciona_adjacente(Adjacente(lugoj, 111))\n",
        "\n",
        "  oradea.adiciona_adjacente(Adjacente(zerind, 71))\n",
        "  oradea.adiciona_adjacente(Adjacente(sibiu, 151))\n",
        "\n",
        "  lugoj.adiciona_adjacente(Adjacente(timisoara, 111))\n",
        "  lugoj.adiciona_adjacente(Adjacente(mehadia, 70))\n",
        "\n",
        "  mehadia.adiciona_adjacente(Adjacente(lugoj, 70))\n",
        "  mehadia.adiciona_adjacente(Adjacente(dobreta, 75))\n",
        "\n",
        "  dobreta.adiciona_adjacente(Adjacente(mehadia, 75))\n",
        "  dobreta.adiciona_adjacente(Adjacente(craiova, 120))\n",
        "\n",
        "  craiova.adiciona_adjacente(Adjacente(dobreta, 120))\n",
        "  craiova.adiciona_adjacente(Adjacente(pitesti, 138))\n",
        "  craiova.adiciona_adjacente(Adjacente(rimnicu, 146))\n",
        "\n",
        "  rimnicu.adiciona_adjacente(Adjacente(craiova, 146))\n",
        "  rimnicu.adiciona_adjacente(Adjacente(sibiu, 80))\n",
        "  rimnicu.adiciona_adjacente(Adjacente(pitesti, 97))\n",
        "\n",
        "  sibiu.adiciona_adjacente(Adjacente(oradea, 151))\n",
        "  sibiu.adiciona_adjacente(Adjacente(arad, 140))\n",
        "  sibiu.adiciona_adjacente(Adjacente(fagaras, 99))\n",
        "  sibiu.adiciona_adjacente(Adjacente(rimnicu, 80))\n",
        "\n",
        "  fagaras.adiciona_adjacente(Adjacente(sibiu, 99))\n",
        "  fagaras.adiciona_adjacente(Adjacente(bucharest, 211))\n",
        "\n",
        "  pitesti.adiciona_adjacente(Adjacente(rimnicu, 97))\n",
        "  pitesti.adiciona_adjacente(Adjacente(craiova, 138))\n",
        "  pitesti.adiciona_adjacente(Adjacente(bucharest, 101))\n",
        "\n",
        "  bucharest.adiciona_adjacente(Adjacente(fagaras, 211))\n",
        "  bucharest.adiciona_adjacente(Adjacente(pitesti, 101))\n",
        "  bucharest.adiciona_adjacente(Adjacente(giurgiu, 90))\n",
        "  bucharest.adiciona_adjacente(Adjacente(urziceni, 85))\n",
        "\n",
        "  giurgiu.adiciona_adjacente(Adjacente(bucharest, 90))\n",
        "\n",
        "  urziceni.adiciona_adjacente(Adjacente(bucharest, 85))\n",
        "  urziceni.adiciona_adjacente(Adjacente(vaslui, 142))\n",
        "  urziceni.adiciona_adjacente(Adjacente(hirsova, 98))\n",
        "\n",
        "  hirsova.adiciona_adjacente(Adjacente(urziceni, 98))\n",
        "  hirsova.adiciona_adjacente(Adjacente(eforie, 86))\n",
        "\n",
        "  eforie.adiciona_adjacente(Adjacente(hirsova, 86))\n",
        "\n",
        "  vaslui.adiciona_adjacente(Adjacente(urziceni, 142))\n",
        "  vaslui.adiciona_adjacente(Adjacente(iasi, 92))\n",
        "\n",
        "  iasi.adiciona_adjacente(Adjacente(vaslui, 92))\n",
        "  iasi.adiciona_adjacente(Adjacente(neamt, 87))\n",
        "\n",
        "  neamt.adiciona_adjacente(Adjacente(iasi, 87))"
      ],
      "metadata": {
        "id": "RN07Rt1sM2xq"
      },
      "execution_count": 46,
      "outputs": []
    },
    {
      "cell_type": "code",
      "source": [
        "# Cria um objeto com todas as ligações\n",
        "grafo = Grafo()"
      ],
      "metadata": {
        "id": "B-OGPs7ToMbL"
      },
      "execution_count": 47,
      "outputs": []
    },
    {
      "cell_type": "code",
      "source": [
        "grafo.arad.mostra_adjacentes()"
      ],
      "metadata": {
        "colab": {
          "base_uri": "https://localhost:8080/"
        },
        "id": "JUv0Cb11oRk5",
        "outputId": "80298779-a02e-4b44-f1dc-b363e34d0eea"
      },
      "execution_count": 50,
      "outputs": [
        {
          "output_type": "stream",
          "name": "stdout",
          "text": [
            "Zerind 75\n",
            "Sibiu 140\n",
            "Timisoara 118\n"
          ]
        }
      ]
    },
    {
      "cell_type": "code",
      "source": [
        "grafo.bucharest.mostra_adjacentes()"
      ],
      "metadata": {
        "colab": {
          "base_uri": "https://localhost:8080/"
        },
        "id": "HEMkFFmQqh-y",
        "outputId": "83f6e512-8bc4-4d57-b99d-72d1179f3236"
      },
      "execution_count": 51,
      "outputs": [
        {
          "output_type": "stream",
          "name": "stdout",
          "text": [
            "Fagaras 211\n",
            "Pitesti 101\n",
            "Giurgiu 90\n",
            "Urziceni 85\n"
          ]
        }
      ]
    }
  ]
}