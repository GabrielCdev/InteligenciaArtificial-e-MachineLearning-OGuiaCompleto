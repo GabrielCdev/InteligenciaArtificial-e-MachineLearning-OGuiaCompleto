{
  "nbformat": 4,
  "nbformat_minor": 0,
  "metadata": {
    "colab": {
      "name": "4_Grafo(Arad-Bucharest)-BuscaGulosa.ipynb",
      "provenance": [],
      "collapsed_sections": [],
      "authorship_tag": "ABX9TyMqN2unJbYlCL547S+hm0DQ",
      "include_colab_link": true
    },
    "kernelspec": {
      "name": "python3",
      "display_name": "Python 3"
    },
    "language_info": {
      "name": "python"
    }
  },
  "cells": [
    {
      "cell_type": "markdown",
      "metadata": {
        "id": "view-in-github",
        "colab_type": "text"
      },
      "source": [
        "<a href=\"https://colab.research.google.com/github/GabrielCdev/InteligenciaArtificial-e-MachineLearning-OGuiaCompleto/blob/main/4_Grafo(Arad_Bucharest)_BuscaGulosa.ipynb\" target=\"_parent\"><img src=\"https://colab.research.google.com/assets/colab-badge.svg\" alt=\"Open In Colab\"/></a>"
      ]
    },
    {
      "cell_type": "code",
      "execution_count": 1,
      "metadata": {
        "id": "lTdgNG404LdC"
      },
      "outputs": [],
      "source": [
        "class Vertice:\n",
        "  # distancia_objetivo = distância em linha reta\n",
        "  def __init__(self, rotulo, distancia_objetivo):\n",
        "    self.rotulo = rotulo\n",
        "    self.distancia_objetivo = distancia_objetivo\n",
        "    self.visitado = False\n",
        "    self.adjacentes = []\n",
        "\n",
        "  def adiciona_adjacente(self, adjacente):\n",
        "    self.adjacentes.append(adjacente)\n",
        "\n",
        "  def mostra_adjacentes(self):\n",
        "    for i in self.adjacentes:\n",
        "      print(i.vertice.rotulo, i.custo)"
      ]
    },
    {
      "cell_type": "code",
      "source": [
        "class Adjacente:\n",
        "  def __init__(self, vertice, custo):\n",
        "    self.vertice = vertice\n",
        "    self.custo = custo"
      ],
      "metadata": {
        "id": "okrcKSwG5FAW"
      },
      "execution_count": 2,
      "outputs": []
    },
    {
      "cell_type": "code",
      "source": [
        "class Grafo:\n",
        "  arad = Vertice('Arad', 366)\n",
        "  zerind = Vertice('Zerind', 374)\n",
        "  oradea = Vertice('Oradea', 380)\n",
        "  sibiu = Vertice('Sibiu', 253)\n",
        "  fagaras = Vertice('Fagaras', 178)\n",
        "  timisoara = Vertice('Timisoara', 329)\n",
        "  lugoj = Vertice('Lugoj', 244)\n",
        "  mehadia = Vertice('Mehadia', 241)\n",
        "  dobreta = Vertice('Dobreta', 242)\n",
        "  craiova = Vertice('Craiova', 160)\n",
        "  rimnicu = Vertice('Rimnicu', 193)\n",
        "  pitesti = Vertice('Pitesti', 98)\n",
        "  bucharest = Vertice('Bucharest', 0)\n",
        "  giurgiu = Vertice('Giurgiu', 77)\n",
        "  urziceni = Vertice('Urziceni', 80)\n",
        "  hirsova = Vertice('Hirsova', 151)\n",
        "  eforie = Vertice('Eforie', 161)\n",
        "  vaslui = Vertice('Vaslui', 199)\n",
        "  iasi = Vertice('Iasi', 226)\n",
        "  neamt = Vertice('Neamt', 234)\n",
        "\n",
        "  arad.adiciona_adjacente(Adjacente(zerind, 75))\n",
        "  arad.adiciona_adjacente(Adjacente(sibiu, 140))\n",
        "  arad.adiciona_adjacente(Adjacente(timisoara, 118))\n",
        "  \n",
        "  zerind.adiciona_adjacente(Adjacente(arad, 75))\n",
        "  zerind.adiciona_adjacente(Adjacente(oradea, 71))\n",
        "\n",
        "  timisoara.adiciona_adjacente(Adjacente(arad, 118))\n",
        "  timisoara.adiciona_adjacente(Adjacente(lugoj, 111))\n",
        "\n",
        "  oradea.adiciona_adjacente(Adjacente(zerind, 71))\n",
        "  oradea.adiciona_adjacente(Adjacente(sibiu, 151))\n",
        "\n",
        "  lugoj.adiciona_adjacente(Adjacente(timisoara, 111))\n",
        "  lugoj.adiciona_adjacente(Adjacente(mehadia, 70))\n",
        "\n",
        "  mehadia.adiciona_adjacente(Adjacente(lugoj, 70))\n",
        "  mehadia.adiciona_adjacente(Adjacente(dobreta, 75))\n",
        "\n",
        "  dobreta.adiciona_adjacente(Adjacente(mehadia, 75))\n",
        "  dobreta.adiciona_adjacente(Adjacente(craiova, 120))\n",
        "\n",
        "  craiova.adiciona_adjacente(Adjacente(dobreta, 120))\n",
        "  craiova.adiciona_adjacente(Adjacente(pitesti, 138))\n",
        "  craiova.adiciona_adjacente(Adjacente(rimnicu, 146))\n",
        "\n",
        "  rimnicu.adiciona_adjacente(Adjacente(craiova, 146))\n",
        "  rimnicu.adiciona_adjacente(Adjacente(sibiu, 80))\n",
        "  rimnicu.adiciona_adjacente(Adjacente(pitesti, 97))\n",
        "\n",
        "  sibiu.adiciona_adjacente(Adjacente(oradea, 151))\n",
        "  sibiu.adiciona_adjacente(Adjacente(arad, 140))\n",
        "  sibiu.adiciona_adjacente(Adjacente(fagaras, 99))\n",
        "  sibiu.adiciona_adjacente(Adjacente(rimnicu, 80))\n",
        "\n",
        "  fagaras.adiciona_adjacente(Adjacente(sibiu, 99))\n",
        "  fagaras.adiciona_adjacente(Adjacente(bucharest, 211))\n",
        "\n",
        "  pitesti.adiciona_adjacente(Adjacente(rimnicu, 97))\n",
        "  pitesti.adiciona_adjacente(Adjacente(craiova, 138))\n",
        "  pitesti.adiciona_adjacente(Adjacente(bucharest, 101))\n",
        "\n",
        "  bucharest.adiciona_adjacente(Adjacente(fagaras, 211))\n",
        "  bucharest.adiciona_adjacente(Adjacente(pitesti, 101))\n",
        "  bucharest.adiciona_adjacente(Adjacente(giurgiu, 90))\n",
        "  bucharest.adiciona_adjacente(Adjacente(urziceni, 85))\n",
        "\n",
        "  giurgiu.adiciona_adjacente(Adjacente(bucharest, 90))\n",
        "\n",
        "  urziceni.adiciona_adjacente(Adjacente(bucharest, 85))\n",
        "  urziceni.adiciona_adjacente(Adjacente(vaslui, 142))\n",
        "  urziceni.adiciona_adjacente(Adjacente(hirsova, 98))\n",
        "\n",
        "  hirsova.adiciona_adjacente(Adjacente(urziceni, 98))\n",
        "  hirsova.adiciona_adjacente(Adjacente(eforie, 86))\n",
        "\n",
        "  eforie.adiciona_adjacente(Adjacente(hirsova, 86))\n",
        "\n",
        "  vaslui.adiciona_adjacente(Adjacente(urziceni, 142))\n",
        "  vaslui.adiciona_adjacente(Adjacente(iasi, 92))\n",
        "\n",
        "  iasi.adiciona_adjacente(Adjacente(vaslui, 92))\n",
        "  iasi.adiciona_adjacente(Adjacente(neamt, 87))\n",
        "\n",
        "  neamt.adiciona_adjacente(Adjacente(iasi, 87))"
      ],
      "metadata": {
        "id": "oJOU6FTT5IoK"
      },
      "execution_count": 3,
      "outputs": []
    },
    {
      "cell_type": "code",
      "source": [
        "grafo = Grafo()"
      ],
      "metadata": {
        "id": "ikNin9F_7TN_"
      },
      "execution_count": 4,
      "outputs": []
    },
    {
      "cell_type": "markdown",
      "source": [
        "# **Vetor Ordenado**"
      ],
      "metadata": {
        "id": "79mX1iaQ7YlZ"
      }
    },
    {
      "cell_type": "code",
      "source": [
        "import numpy as np\n",
        "\n",
        "class VetorOrdenado:\n",
        "  def __init__(self, capacidade):\n",
        "    self.capacidade = capacidade\n",
        "    self.ultima_posicao = -1\n",
        "    # Mudança no tipo de dados\n",
        "    self.valores = np.empty(self.capacidade, dtype=object)\n",
        "\n",
        "  # Referência para o vértice e comparação com a distância para o objetivo\n",
        "  def insere(self, vertice):\n",
        "    if self.ultima_posicao == self.capacidade - 1:\n",
        "      print('Capacidade máxima atingida')\n",
        "      return\n",
        "\n",
        "    posicao = 0\n",
        "    \n",
        "    for i in range(self.ultima_posicao + 1):\n",
        "      posicao = i\n",
        "      \n",
        "      if self.valores[i].distancia_objetivo > vertice.distancia_objetivo:\n",
        "        break\n",
        "      \n",
        "      if i == self.ultima_posicao:\n",
        "        posicao = i + 1\n",
        "    \n",
        "    x = self.ultima_posicao\n",
        "    \n",
        "    while x >= posicao:\n",
        "      self.valores[x + 1] = self.valores[x]\n",
        "      x -= 1\n",
        "\n",
        "    self.valores[posicao] = vertice\n",
        "    self.ultima_posicao += 1\n",
        "\n",
        "  def imprime(self):\n",
        "    if self.ultima_posicao == -1:\n",
        "      print('O vetor está vazio')\n",
        "    else:\n",
        "      for i in range(self.ultima_posicao + 1):\n",
        "        print(i, ' - ', self.valores[i].rotulo, ' - ', self.valores[i].distancia_objetivo)"
      ],
      "metadata": {
        "id": "QVazXkcy7YUe"
      },
      "execution_count": 10,
      "outputs": []
    },
    {
      "cell_type": "code",
      "source": [
        "vetor = VetorOrdenado(5)\n",
        "vetor.insere(grafo.arad)\n",
        "vetor.insere(grafo.craiova)\n",
        "vetor.insere(grafo.bucharest)\n",
        "vetor.insere(grafo.dobreta)"
      ],
      "metadata": {
        "id": "5I9e4b7E-1GW"
      },
      "execution_count": 11,
      "outputs": []
    },
    {
      "cell_type": "code",
      "source": [
        "vetor.imprime()"
      ],
      "metadata": {
        "colab": {
          "base_uri": "https://localhost:8080/"
        },
        "id": "C06NoH6r_AFv",
        "outputId": "738b3ba0-65d8-4ae1-f52f-0656b302f0a9"
      },
      "execution_count": 12,
      "outputs": [
        {
          "output_type": "stream",
          "name": "stdout",
          "text": [
            "0  -  Bucharest  -  0\n",
            "1  -  Craiova  -  160\n",
            "2  -  Dobreta  -  242\n",
            "3  -  Arad  -  366\n"
          ]
        }
      ]
    },
    {
      "cell_type": "code",
      "source": [
        "vetor.insere(grafo.lugoj)\n",
        "vetor.imprime()"
      ],
      "metadata": {
        "colab": {
          "base_uri": "https://localhost:8080/"
        },
        "id": "jksCLnvr_pEs",
        "outputId": "8d015a9c-2dfd-4267-95ff-34a14b02527a"
      },
      "execution_count": 13,
      "outputs": [
        {
          "output_type": "stream",
          "name": "stdout",
          "text": [
            "0  -  Bucharest  -  0\n",
            "1  -  Craiova  -  160\n",
            "2  -  Dobreta  -  242\n",
            "3  -  Lugoj  -  244\n",
            "4  -  Arad  -  366\n"
          ]
        }
      ]
    },
    {
      "cell_type": "code",
      "source": [
        "vetor.valores[0], vetor.valores[0].rotulo"
      ],
      "metadata": {
        "colab": {
          "base_uri": "https://localhost:8080/"
        },
        "id": "1lXufYNA_yAS",
        "outputId": "26bcc882-0cfc-4a9a-d206-2ba2eb8398a3"
      },
      "execution_count": 14,
      "outputs": [
        {
          "output_type": "execute_result",
          "data": {
            "text/plain": [
              "(<__main__.Vertice at 0x7fe1d8daf910>, 'Bucharest')"
            ]
          },
          "metadata": {},
          "execution_count": 14
        }
      ]
    },
    {
      "cell_type": "markdown",
      "source": [
        "# **BUSCA GULOSA**"
      ],
      "metadata": {
        "id": "2nwkJw1i_7ey"
      }
    },
    {
      "cell_type": "code",
      "source": [
        "class Gulosa:\n",
        "  def __init__(self, objetivo):\n",
        "    self.objetivo = objetivo\n",
        "    self.encontrado = False\n",
        "\n",
        "  # atual receberá cada nó do grafo na melhor escolha\n",
        "  def buscar(self, atual):\n",
        "    print('-------')\n",
        "    print('Atual: {}'.format(atual.rotulo))\n",
        "    atual.visitado = True\n",
        "\n",
        "    if atual == self.objetivo:\n",
        "      self.encontrado = True\n",
        "    else:\n",
        "      # atual.adjacentes = se um nó tiver 5 adjacentes, é criado um novo vetor ordenado com 5 posições\n",
        "      vetor_ordenado = VetorOrdenado(len(atual.adjacentes))\n",
        "\n",
        "      for adjacente in atual.adjacentes:\n",
        "        if adjacente.vertice.visitado == False:\n",
        "          # Visita todas as cidades adjacentes e insere dentro do vetor ordenado\n",
        "          adjacente.vertice.visitado == True\n",
        "          vetor_ordenado.insere(adjacente.vertice)\n",
        "      \n",
        "      vetor_ordenado.imprime()\n",
        "\n",
        "      # Condicional para verificar se não está vazio\n",
        "      if vetor_ordenado.valores[0] != None:\n",
        "        self.buscar(vetor_ordenado.valores[0])"
      ],
      "metadata": {
        "id": "tCeg5WHJ_-x5"
      },
      "execution_count": 15,
      "outputs": []
    },
    {
      "cell_type": "code",
      "source": [
        "# Nesse caso, precisa passar como parâmetro o objetivo\n",
        "busca_gulosa = Gulosa(grafo.bucharest)\n",
        "\n",
        "# Informa o primeiro vértice (que iniciará a busca)\n",
        "busca_gulosa.buscar(grafo.arad)"
      ],
      "metadata": {
        "colab": {
          "base_uri": "https://localhost:8080/"
        },
        "id": "4qEeC7upB_NW",
        "outputId": "7ab8edab-b17d-44b3-c939-9511a49dbb3c"
      },
      "execution_count": 16,
      "outputs": [
        {
          "output_type": "stream",
          "name": "stdout",
          "text": [
            "-------\n",
            "Atual: Arad\n",
            "0  -  Sibiu  -  253\n",
            "1  -  Timisoara  -  329\n",
            "2  -  Zerind  -  374\n",
            "-------\n",
            "Atual: Sibiu\n",
            "0  -  Fagaras  -  178\n",
            "1  -  Rimnicu  -  193\n",
            "2  -  Oradea  -  380\n",
            "-------\n",
            "Atual: Fagaras\n",
            "0  -  Bucharest  -  0\n",
            "-------\n",
            "Atual: Bucharest\n"
          ]
        }
      ]
    }
  ]
}