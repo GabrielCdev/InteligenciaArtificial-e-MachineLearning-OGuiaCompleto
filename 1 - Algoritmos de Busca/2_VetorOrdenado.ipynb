{
  "nbformat": 4,
  "nbformat_minor": 0,
  "metadata": {
    "colab": {
      "name": "VetorOrdenado.ipynb",
      "provenance": [],
      "collapsed_sections": [],
      "authorship_tag": "ABX9TyMGSZ515bf8fX9Drmw7yvnL",
      "include_colab_link": true
    },
    "kernelspec": {
      "name": "python3",
      "display_name": "Python 3"
    },
    "language_info": {
      "name": "python"
    }
  },
  "cells": [
    {
      "cell_type": "markdown",
      "metadata": {
        "id": "view-in-github",
        "colab_type": "text"
      },
      "source": [
        "<a href=\"https://colab.research.google.com/github/GabrielCdev/InteligenciaArtificial-e-MachineLearning-OGuiaCompleto/blob/main/VetorOrdenado.ipynb\" target=\"_parent\"><img src=\"https://colab.research.google.com/assets/colab-badge.svg\" alt=\"Open In Colab\"/></a>"
      ]
    },
    {
      "cell_type": "code",
      "execution_count": 18,
      "metadata": {
        "id": "y0UI60DKlKFb"
      },
      "outputs": [],
      "source": [
        "import numpy as np"
      ]
    },
    {
      "cell_type": "code",
      "source": [
        "# Definida a classe Vetor Ordenado\n",
        "class VetorOrdenado:\n",
        "\n",
        "  # Construtor que recebe como parâmetro a capacidade (self = parâmetro padrão)\n",
        "  def __init__(self, capacidade):\n",
        "    # O atributo capacidade recebe o parâmetro em seguida (capacidade)\n",
        "    self.capacidade = capacidade\n",
        "    # O atributo ultima_posicao recebe o parâmetro o -1 = Vetor Vazio\n",
        "    self.ultima_posicao = -1\n",
        "    # O atributo valores recebe o parâmetro Numpy array vazio com a capacidade de acordo com o que foi passado superiormente e o tipo de dados INTEIRO\n",
        "    self.valores = np.empty(self.capacidade, dtype=int)\n",
        "\n",
        "  # O(n)\n",
        "  def imprime(self):\n",
        "    # Verifica se o vetor está vazio\n",
        "    if self.ultima_posicao == -1:\n",
        "      print('O vetor está vazio')\n",
        "      # Se o vetor não estiver vazio\n",
        "    else:\n",
        "      # Laço for que percorre as posições e ao final exibe a posição + o respectivo valor\n",
        "      for i in range(self.ultima_posicao + 1):\n",
        "        print(i, ' - ', self.valores[i])\n",
        "\n",
        "  # O(n)\n",
        "  def insere(self, valor):\n",
        "    # Verifica se o vetor está cheio\n",
        "    if self.ultima_posicao == self.capacidade - 1:\n",
        "      print('Capacidade máxima atingida')\n",
        "      return\n",
        "\n",
        "    # Variável que será inicializada com valor 0. Útil quando o código de inserção for executada pela 1ªx, quando for inserido o 1º elemento no vetor, a posição padrão é 0.\n",
        "    posicao = 0\n",
        "    # Laço que percorre todos os elementos do vetor\n",
        "    for i in range(self.ultima_posicao + 1):\n",
        "      # Posição em que o valor será inserido\n",
        "      posicao = i\n",
        "      # Condicional para parar quando encontrar a posição do valor que será inserido\n",
        "      if self.valores[i] > valor:\n",
        "        break\n",
        "      # Condicional para quando percorrer o vetor inteiro e chegar na última posição preenchida, adicione o valor na última posição preenchida + 1\n",
        "      if i == self.ultima_posicao:\n",
        "        posicao = i + 1\n",
        "\n",
        "    # Recebe a última posição (para executar a estrutura de repetição invertida - começando da última posição, regredindo até a posição que será inserido o valor)\n",
        "    x = self.ultima_posicao\n",
        "    while x >= posicao:\n",
        "      # A posição subsequente receberá a posição atual (rearranjando o vetor)\n",
        "      self.valores[x + 1] = self.valores[x]\n",
        "      x -= 1\n",
        "\n",
        "    # Valor na posição encontrada\n",
        "    self.valores[posicao] = valor\n",
        "    # Incrementa o valor da última posição\n",
        "    self.ultima_posicao += 1"
      ],
      "metadata": {
        "id": "L5NVuMstlusr"
      },
      "execution_count": 19,
      "outputs": []
    },
    {
      "cell_type": "code",
      "source": [
        "vetor = VetorOrdenado(10)\n",
        "vetor.imprime()"
      ],
      "metadata": {
        "colab": {
          "base_uri": "https://localhost:8080/"
        },
        "id": "gi58f8hjsVbO",
        "outputId": "969b51de-2d06-4148-8cc8-81d8b260d7c9"
      },
      "execution_count": 20,
      "outputs": [
        {
          "output_type": "stream",
          "name": "stdout",
          "text": [
            "O vetor está vazio\n"
          ]
        }
      ]
    },
    {
      "cell_type": "code",
      "source": [
        "vetor.insere(6)\n",
        "vetor.imprime()"
      ],
      "metadata": {
        "colab": {
          "base_uri": "https://localhost:8080/"
        },
        "id": "0WvHq-XzBo_w",
        "outputId": "97cfe91e-37aa-4cb6-cf1d-26ca52cf44b4"
      },
      "execution_count": 21,
      "outputs": [
        {
          "output_type": "stream",
          "name": "stdout",
          "text": [
            "0  -  6\n"
          ]
        }
      ]
    },
    {
      "cell_type": "code",
      "source": [
        "vetor.insere(4)\n",
        "vetor.imprime()"
      ],
      "metadata": {
        "colab": {
          "base_uri": "https://localhost:8080/"
        },
        "id": "GiYFO6BDBuWI",
        "outputId": "839e2ff6-e9c5-4620-d9d8-508254770ffa"
      },
      "execution_count": 22,
      "outputs": [
        {
          "output_type": "stream",
          "name": "stdout",
          "text": [
            "0  -  4\n",
            "1  -  6\n"
          ]
        }
      ]
    },
    {
      "cell_type": "code",
      "source": [
        "vetor.insere(3)\n",
        "vetor.imprime()"
      ],
      "metadata": {
        "colab": {
          "base_uri": "https://localhost:8080/"
        },
        "id": "nyhkSVaPC1O8",
        "outputId": "a858f068-28de-453c-da87-13d5f8a1551a"
      },
      "execution_count": 23,
      "outputs": [
        {
          "output_type": "stream",
          "name": "stdout",
          "text": [
            "0  -  3\n",
            "1  -  4\n",
            "2  -  6\n"
          ]
        }
      ]
    },
    {
      "cell_type": "code",
      "source": [
        "vetor.insere(5)\n",
        "vetor.imprime()"
      ],
      "metadata": {
        "colab": {
          "base_uri": "https://localhost:8080/"
        },
        "id": "-vpNRNReEd-9",
        "outputId": "619ab0a5-044b-49cb-8c96-2e9b763f4aef"
      },
      "execution_count": 24,
      "outputs": [
        {
          "output_type": "stream",
          "name": "stdout",
          "text": [
            "0  -  3\n",
            "1  -  4\n",
            "2  -  5\n",
            "3  -  6\n"
          ]
        }
      ]
    },
    {
      "cell_type": "code",
      "source": [
        "vetor.insere(1)\n",
        "vetor.imprime()"
      ],
      "metadata": {
        "colab": {
          "base_uri": "https://localhost:8080/"
        },
        "id": "1hvJxWTAGgnM",
        "outputId": "c10bae7d-877d-4433-dce4-050fd5bba30a"
      },
      "execution_count": 25,
      "outputs": [
        {
          "output_type": "stream",
          "name": "stdout",
          "text": [
            "0  -  1\n",
            "1  -  3\n",
            "2  -  4\n",
            "3  -  5\n",
            "4  -  6\n"
          ]
        }
      ]
    },
    {
      "cell_type": "code",
      "source": [
        "vetor.insere(8)\n",
        "vetor.imprime()"
      ],
      "metadata": {
        "colab": {
          "base_uri": "https://localhost:8080/"
        },
        "id": "VGdxI0jwHB9w",
        "outputId": "00ea4371-c380-4c5a-fbbb-28b6cb8b9357"
      },
      "execution_count": 26,
      "outputs": [
        {
          "output_type": "stream",
          "name": "stdout",
          "text": [
            "0  -  1\n",
            "1  -  3\n",
            "2  -  4\n",
            "3  -  5\n",
            "4  -  6\n",
            "5  -  8\n"
          ]
        }
      ]
    }
  ]
}
