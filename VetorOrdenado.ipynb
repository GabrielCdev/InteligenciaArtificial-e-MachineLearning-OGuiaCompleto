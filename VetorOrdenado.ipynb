{
  "nbformat": 4,
  "nbformat_minor": 0,
  "metadata": {
    "colab": {
      "name": "VetorOrdenado.ipynb",
      "provenance": [],
      "collapsed_sections": [],
      "authorship_tag": "ABX9TyMiX+Mnnr5sZNJqE6IMVlTO",
      "include_colab_link": true
    },
    "kernelspec": {
      "name": "python3",
      "display_name": "Python 3"
    },
    "language_info": {
      "name": "python"
    }
  },
  "cells": [
    {
      "cell_type": "markdown",
      "metadata": {
        "id": "view-in-github",
        "colab_type": "text"
      },
      "source": [
        "<a href=\"https://colab.research.google.com/github/GabrielCdev/InteligenciaArtificial-e-MachineLearning-OGuiaCompleto/blob/main/VetorOrdenado.ipynb\" target=\"_parent\"><img src=\"https://colab.research.google.com/assets/colab-badge.svg\" alt=\"Open In Colab\"/></a>"
      ]
    },
    {
      "cell_type": "code",
      "execution_count": 2,
      "metadata": {
        "id": "y0UI60DKlKFb"
      },
      "outputs": [],
      "source": [
        "import numpy as np"
      ]
    },
    {
      "cell_type": "code",
      "source": [
        "# Definida a classe Vetor Ordenado\n",
        "class VetorOrdenado:\n",
        "\n",
        "  # Construtor que recebe como parâmetro a capacidade (self = parâmetro padrão)\n",
        "  def __init__(self, capacidade):\n",
        "    # O atributo capacidade recebe o parâmetro em seguida (capacidade)\n",
        "    self.capacidade = capacidade\n",
        "    # O atributo ultima_posicao recebe o parâmetro o -1 = Vetor Vazio\n",
        "    self.ultima_posicao = -1\n",
        "    # O atributo valores recebe o parâmetro Numpy array vazio com a capacidade de acordo com o que foi passado superiormente e o tipo de dados INTEIRO\n",
        "    self.valores = np.empty(self.capacidade, dtype=int)\n",
        "\n",
        "    # O(n) <- notação Big O\n",
        "    def imprime(self):\n",
        "      # Verifica se o vetor está vazio\n",
        "      if self.ultima_posicao == -1:\n",
        "        print('O vetor está vazio!')\n",
        "        # Se o vetor não estiver vazio\n",
        "      else:\n",
        "        # Laço for que percorre as posições e ao final exibe a posição + o respectivo valor\n",
        "        for i in range(self.ultima_posicao + 1):\n",
        "          print(i, ' - ', self.valores[i])\n",
        "\n",
        "    # Construtor que recebe como parâmetro o valor (que nós queremos inserir) (self = parâmetro padrão)\n",
        "    def insere(self, valor):\n",
        "      # Verifica se o vetor está cheio\n",
        "      if self.ultima_posicao == self.capacidade - 1\n",
        "        print('Capacidade máxima atingida!')\n",
        "        return # Para sair da função (não executa mais nada)\n",
        "\n",
        "      # Variável que será inicializada com valor 0. Útil quando o código de inserção for executada pela 1ªx, quando for inserido o 1º elemento no vetor, a posição padrão é 0.\n",
        "      posicao = 0\n",
        "      # Laço que percorre todos os elementos do vetor\n",
        "      for i in range(self.ultima_posicao + 1)\n",
        "        posicao = i\n",
        "        # Condicional para encontrar a posição do valor que será inserido\n",
        "        if self.valores[i] > valor:\n",
        "          break\n",
        "\n",
        "      x = self.ultima_posicao\n"
      ],
      "metadata": {
        "colab": {
          "base_uri": "https://localhost:8080/",
          "height": 130
        },
        "id": "L5NVuMstlusr",
        "outputId": "a9241a1e-387f-4af4-f5b6-474891f09a72"
      },
      "execution_count": 5,
      "outputs": [
        {
          "output_type": "error",
          "ename": "SyntaxError",
          "evalue": "ignored",
          "traceback": [
            "\u001b[0;36m  File \u001b[0;32m\"<ipython-input-5-0a28bbdcfdae>\"\u001b[0;36m, line \u001b[0;32m25\u001b[0m\n\u001b[0;31m    def insere(self, valor):\u001b[0m\n\u001b[0m                            ^\u001b[0m\n\u001b[0;31mSyntaxError\u001b[0m\u001b[0;31m:\u001b[0m unexpected EOF while parsing\n"
          ]
        }
      ]
    }
  ]
}